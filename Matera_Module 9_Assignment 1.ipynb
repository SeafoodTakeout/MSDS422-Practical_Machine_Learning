{
 "cells": [
  {
   "cell_type": "code",
   "execution_count": 1,
   "id": "0a7c6589",
   "metadata": {},
   "outputs": [],
   "source": [
    "import pandas as pd\n",
    "import matplotlib.pyplot as plt\n",
    "import seaborn as sns\n",
    "import numpy as np\n",
    "import tensorflow as tf\n",
    "from IPython.display import clear_output\n",
    "import random\n",
    "import os\n",
    "import nltk\n",
    "from nltk.tokenize import RegexpTokenizer\n",
    "from sklearn.metrics import accuracy_score\n",
    "from keras.callbacks import CSVLogger\n",
    "from nltk.stem import WordNetLemmatizer, PorterStemmer\n",
    "from nltk.corpus import stopwords\n",
    "import matplotlib.pyplot as plt\n",
    "from matplotlib import pyplot\n",
    "from sklearn.feature_extraction.text import CountVectorizer,TfidfVectorizer, TfidfTransformer\n",
    "from keras.preprocessing.text import Tokenizer\n",
    "from keras.preprocessing.sequence import pad_sequences\n",
    "from keras.models import Sequential, load_model\n",
    "from keras.layers import LSTM, GRU\n",
    "from keras.layers import Dense, Embedding, Bidirectional, Dropout, Flatten\n",
    "from tensorflow.keras.optimizers import Adam\n",
    "from nltk.stem import SnowballStemmer\n",
    "import re"
   ]
  },
  {
   "cell_type": "code",
   "execution_count": 2,
   "id": "0c487a0f",
   "metadata": {},
   "outputs": [],
   "source": [
    "train_df = pd.read_csv('train.csv')\n",
    "\n",
    "test_df = pd.read_csv('test.csv')"
   ]
  },
  {
   "cell_type": "markdown",
   "id": "51020fbe",
   "metadata": {},
   "source": [
    "# EDA"
   ]
  },
  {
   "cell_type": "code",
   "execution_count": 3,
   "id": "23dbaadf",
   "metadata": {},
   "outputs": [
    {
     "data": {
      "text/html": [
       "<div>\n",
       "<style scoped>\n",
       "    .dataframe tbody tr th:only-of-type {\n",
       "        vertical-align: middle;\n",
       "    }\n",
       "\n",
       "    .dataframe tbody tr th {\n",
       "        vertical-align: top;\n",
       "    }\n",
       "\n",
       "    .dataframe thead th {\n",
       "        text-align: right;\n",
       "    }\n",
       "</style>\n",
       "<table border=\"1\" class=\"dataframe\">\n",
       "  <thead>\n",
       "    <tr style=\"text-align: right;\">\n",
       "      <th></th>\n",
       "      <th>id</th>\n",
       "      <th>keyword</th>\n",
       "      <th>location</th>\n",
       "      <th>text</th>\n",
       "      <th>target</th>\n",
       "    </tr>\n",
       "  </thead>\n",
       "  <tbody>\n",
       "    <tr>\n",
       "      <th>6635</th>\n",
       "      <td>9502</td>\n",
       "      <td>terrorist</td>\n",
       "      <td>NaN</td>\n",
       "      <td>Fresh encounter in Pulwama of J&amp;amp;amp;K one ...</td>\n",
       "      <td>1</td>\n",
       "    </tr>\n",
       "    <tr>\n",
       "      <th>3080</th>\n",
       "      <td>4421</td>\n",
       "      <td>electrocute</td>\n",
       "      <td>Mass</td>\n",
       "      <td>@Mmchale13 *tries to electrocute self with pho...</td>\n",
       "      <td>0</td>\n",
       "    </tr>\n",
       "    <tr>\n",
       "      <th>5024</th>\n",
       "      <td>7165</td>\n",
       "      <td>mudslide</td>\n",
       "      <td>potters bar</td>\n",
       "      <td>Loved the opener and still feeling guilty for ...</td>\n",
       "      <td>0</td>\n",
       "    </tr>\n",
       "    <tr>\n",
       "      <th>1727</th>\n",
       "      <td>2490</td>\n",
       "      <td>collided</td>\n",
       "      <td>On the court</td>\n",
       "      <td>DRob collided into Dan Hughes while she was go...</td>\n",
       "      <td>0</td>\n",
       "    </tr>\n",
       "    <tr>\n",
       "      <th>1764</th>\n",
       "      <td>2537</td>\n",
       "      <td>collision</td>\n",
       "      <td>Peterborough, Ontario, Canada</td>\n",
       "      <td>Two-vehicle collision at Fowlers Corners at Hw...</td>\n",
       "      <td>1</td>\n",
       "    </tr>\n",
       "    <tr>\n",
       "      <th>4640</th>\n",
       "      <td>6597</td>\n",
       "      <td>inundated</td>\n",
       "      <td>The Main</td>\n",
       "      <td>I presume my timeline will be inundated with '...</td>\n",
       "      <td>0</td>\n",
       "    </tr>\n",
       "    <tr>\n",
       "      <th>1439</th>\n",
       "      <td>2075</td>\n",
       "      <td>casualty</td>\n",
       "      <td>Toledo, OH</td>\n",
       "      <td>Casualty Team: Ice Cream Recall Sends Chill Th...</td>\n",
       "      <td>0</td>\n",
       "    </tr>\n",
       "    <tr>\n",
       "      <th>1390</th>\n",
       "      <td>2006</td>\n",
       "      <td>bush%20fires</td>\n",
       "      <td>NaN</td>\n",
       "      <td>Ted Cruz fires back at Jeb &amp;amp; Bush: ÛÏWe l...</td>\n",
       "      <td>0</td>\n",
       "    </tr>\n",
       "    <tr>\n",
       "      <th>5272</th>\n",
       "      <td>7534</td>\n",
       "      <td>oil%20spill</td>\n",
       "      <td>NaN</td>\n",
       "      <td>Refugio oil spill may have been costlier bigge...</td>\n",
       "      <td>1</td>\n",
       "    </tr>\n",
       "    <tr>\n",
       "      <th>539</th>\n",
       "      <td>784</td>\n",
       "      <td>avalanche</td>\n",
       "      <td>Buy Give Me My Money</td>\n",
       "      <td>I HAVE GOT MORE VIDEOS THAN YOU RAPPERS GOT SO...</td>\n",
       "      <td>0</td>\n",
       "    </tr>\n",
       "  </tbody>\n",
       "</table>\n",
       "</div>"
      ],
      "text/plain": [
       "        id       keyword                       location  \\\n",
       "6635  9502     terrorist                            NaN   \n",
       "3080  4421   electrocute                           Mass   \n",
       "5024  7165      mudslide                    potters bar   \n",
       "1727  2490      collided                  On the court    \n",
       "1764  2537     collision  Peterborough, Ontario, Canada   \n",
       "4640  6597     inundated                      The Main    \n",
       "1439  2075      casualty                     Toledo, OH   \n",
       "1390  2006  bush%20fires                            NaN   \n",
       "5272  7534   oil%20spill                            NaN   \n",
       "539    784     avalanche          Buy Give Me My Money    \n",
       "\n",
       "                                                   text  target  \n",
       "6635  Fresh encounter in Pulwama of J&amp;amp;K one ...       1  \n",
       "3080  @Mmchale13 *tries to electrocute self with pho...       0  \n",
       "5024  Loved the opener and still feeling guilty for ...       0  \n",
       "1727  DRob collided into Dan Hughes while she was go...       0  \n",
       "1764  Two-vehicle collision at Fowlers Corners at Hw...       1  \n",
       "4640  I presume my timeline will be inundated with '...       0  \n",
       "1439  Casualty Team: Ice Cream Recall Sends Chill Th...       0  \n",
       "1390  Ted Cruz fires back at Jeb &amp; Bush: ÛÏWe l...       0  \n",
       "5272  Refugio oil spill may have been costlier bigge...       1  \n",
       "539   I HAVE GOT MORE VIDEOS THAN YOU RAPPERS GOT SO...       0  "
      ]
     },
     "execution_count": 3,
     "metadata": {},
     "output_type": "execute_result"
    }
   ],
   "source": [
    "train_df.sample(10)"
   ]
  },
  {
   "cell_type": "code",
   "execution_count": 4,
   "id": "27917925",
   "metadata": {},
   "outputs": [
    {
     "name": "stdout",
     "output_type": "stream",
     "text": [
      "Train data set shape: (7613, 5)\n",
      "Test data set shape: (3263, 4)\n"
     ]
    }
   ],
   "source": [
    "# Check shape of data sets\n",
    "print(f\"Train data set shape: {train_df.shape}\")\n",
    "print(f\"Test data set shape: {test_df.shape}\")"
   ]
  },
  {
   "cell_type": "code",
   "execution_count": 5,
   "id": "010bec43",
   "metadata": {},
   "outputs": [
    {
     "name": "stdout",
     "output_type": "stream",
     "text": [
      "Train Dataset missing data: \n",
      "id             0\n",
      "keyword       61\n",
      "location    2533\n",
      "text           0\n",
      "target         0\n",
      "dtype: int64\n",
      "\n",
      "Test Dataset missing data: \n",
      "id             0\n",
      "keyword       26\n",
      "location    1105\n",
      "text           0\n",
      "dtype: int64\n"
     ]
    }
   ],
   "source": [
    "# Check missing values\n",
    "print(f\"Train Dataset missing data: \\n{train_df.isnull().sum()}\\n\")\n",
    "print(f\"Test Dataset missing data: \\n{test_df.isnull().sum()}\")"
   ]
  },
  {
   "cell_type": "code",
   "execution_count": 6,
   "id": "960a1a74",
   "metadata": {},
   "outputs": [
    {
     "data": {
      "text/plain": [
       "0    4342\n",
       "1    3271\n",
       "Name: target, dtype: int64"
      ]
     },
     "execution_count": 6,
     "metadata": {},
     "output_type": "execute_result"
    }
   ],
   "source": [
    "train_df['target'].value_counts()"
   ]
  },
  {
   "cell_type": "code",
   "execution_count": 7,
   "id": "48a53611",
   "metadata": {},
   "outputs": [
    {
     "data": {
      "image/png": "[encoded data removed]",
      "text/plain": [
       "<Figure size 432x288 with 1 Axes>"
      ]
     },
     "metadata": {
      "needs_background": "light"
     },
     "output_type": "display_data"
    }
   ],
   "source": [
    "sns.countplot(x='target', data=train_df);"
   ]
  },
  {
   "cell_type": "code",
   "execution_count": 8,
   "id": "3217f186",
   "metadata": {},
   "outputs": [
    {
     "data": {
      "image/png": "[encoded data removed]",
      "text/plain": [
       "<Figure size 1080x432 with 1 Axes>"
      ]
     },
     "metadata": {
      "needs_background": "light"
     },
     "output_type": "display_data"
    }
   ],
   "source": [
    "# Check key words\n",
    "keywords_check = train_df[\"keyword\"].value_counts()[:20].to_frame()\n",
    "\n",
    "fig = plt.figure(figsize=(15,6))\n",
    "sns.barplot(data=keywords_check, x=keywords_check.index, y=\"keyword\", palette=\"PRGn\")\n",
    "plt.title(\"Most common keywords\",size=16)\n",
    "plt.xticks(rotation=70,size=12);"
   ]
  },
  {
   "cell_type": "markdown",
   "id": "a56837e6",
   "metadata": {},
   "source": [
    "# Preprocessing"
   ]
  },
  {
   "cell_type": "code",
   "execution_count": 9,
   "id": "d3b604a6",
   "metadata": {},
   "outputs": [
    {
     "name": "stderr",
     "output_type": "stream",
     "text": [
      "[nltk_data] Downloading package stopwords to\n",
      "[nltk_data]     C:\\Users\\16095\\AppData\\Roaming\\nltk_data...\n",
      "[nltk_data]   Package stopwords is already up-to-date!\n",
      "[nltk_data] Downloading package wordnet to\n",
      "[nltk_data]     C:\\Users\\16095\\AppData\\Roaming\\nltk_data...\n",
      "[nltk_data]   Package wordnet is already up-to-date!\n"
     ]
    },
    {
     "data": {
      "text/plain": [
       "True"
      ]
     },
     "execution_count": 9,
     "metadata": {},
     "output_type": "execute_result"
    }
   ],
   "source": [
    "nltk.download('stopwords')\n",
    "nltk.download('wordnet')"
   ]
  },
  {
   "cell_type": "code",
   "execution_count": 10,
   "id": "585bff30",
   "metadata": {},
   "outputs": [],
   "source": [
    "def remove_emoji(string):\n",
    "  '''\n",
    "  Remove emojies from text\n",
    "  '''\n",
    "  emoji_pattern = re.compile(\"[\"\n",
    "  u\"\\U0001F600-\\U0001F64F\"\n",
    "  u\"\\U0001F300-\\U0001F5FF\"\n",
    "  u\"\\U0001F680-\\U0001F6FF\"\n",
    "  u\"\\U0001F1E0-\\U0001F1FF\"\n",
    "  u\"\\U00002702-\\U000027B0\"\n",
    "  u\"\\U000024C2-\\U0001F251\"\n",
    "  u\"\\U0001f926-\\U0001f937\"\n",
    "  u'\\U00010000-\\U0010ffff'\n",
    "  u\"\\u200d\"\n",
    "  u\"\\u2640-\\u2642\"\n",
    "  u\"\\u2600-\\u2B55\"\n",
    "  u\"\\u23cf\"\n",
    "  u\"\\u23e9\"\n",
    "  u\"\\u231a\"\n",
    "  u\"\\u3030\"\n",
    "  u\"\\ufe0f\"\n",
    "  \"]+\", flags=re.UNICODE)\n",
    "  \n",
    "  return emoji_pattern.sub(r' ', string)"
   ]
  },
  {
   "cell_type": "code",
   "execution_count": 11,
   "id": "a89bdb2c",
   "metadata": {},
   "outputs": [
    {
     "name": "stderr",
     "output_type": "stream",
     "text": [
      "<ipython-input-11-e6b96132cf7e>:39: SettingWithCopyWarning: \n",
      "A value is trying to be set on a copy of a slice from a DataFrame\n",
      "\n",
      "See the caveats in the documentation: https://pandas.pydata.org/pandas-docs/stable/user_guide/indexing.html#returning-a-view-versus-a-copy\n",
      "  train_df[col][i] = preprocess(train_df[col][i])\n",
      "<ipython-input-11-e6b96132cf7e>:44: SettingWithCopyWarning: \n",
      "A value is trying to be set on a copy of a slice from a DataFrame\n",
      "\n",
      "See the caveats in the documentation: https://pandas.pydata.org/pandas-docs/stable/user_guide/indexing.html#returning-a-view-versus-a-copy\n",
      "  test_df[col][i] = preprocess(test_df[col][i])\n"
     ]
    },
    {
     "name": "stdout",
     "output_type": "stream",
     "text": [
      "\n",
      "Train Set:\n"
     ]
    },
    {
     "data": {
      "text/html": [
       "<div>\n",
       "<style scoped>\n",
       "    .dataframe tbody tr th:only-of-type {\n",
       "        vertical-align: middle;\n",
       "    }\n",
       "\n",
       "    .dataframe tbody tr th {\n",
       "        vertical-align: top;\n",
       "    }\n",
       "\n",
       "    .dataframe thead th {\n",
       "        text-align: right;\n",
       "    }\n",
       "</style>\n",
       "<table border=\"1\" class=\"dataframe\">\n",
       "  <thead>\n",
       "    <tr style=\"text-align: right;\">\n",
       "      <th></th>\n",
       "      <th>id</th>\n",
       "      <th>keyword</th>\n",
       "      <th>location</th>\n",
       "      <th>text</th>\n",
       "      <th>target</th>\n",
       "    </tr>\n",
       "  </thead>\n",
       "  <tbody>\n",
       "    <tr>\n",
       "      <th>0</th>\n",
       "      <td>1</td>\n",
       "      <td>nan</td>\n",
       "      <td>nan</td>\n",
       "      <td>deeds reason earthquake may allah forgive</td>\n",
       "      <td>1</td>\n",
       "    </tr>\n",
       "    <tr>\n",
       "      <th>1</th>\n",
       "      <td>4</td>\n",
       "      <td>nan</td>\n",
       "      <td>nan</td>\n",
       "      <td>forest fire near ronge sask canada</td>\n",
       "      <td>1</td>\n",
       "    </tr>\n",
       "    <tr>\n",
       "      <th>2</th>\n",
       "      <td>5</td>\n",
       "      <td>nan</td>\n",
       "      <td>nan</td>\n",
       "      <td>residents asked shelter place notified officer...</td>\n",
       "      <td>1</td>\n",
       "    </tr>\n",
       "    <tr>\n",
       "      <th>3</th>\n",
       "      <td>6</td>\n",
       "      <td>nan</td>\n",
       "      <td>nan</td>\n",
       "      <td>people receive wildfires evacuation orders cal...</td>\n",
       "      <td>1</td>\n",
       "    </tr>\n",
       "    <tr>\n",
       "      <th>4</th>\n",
       "      <td>7</td>\n",
       "      <td>nan</td>\n",
       "      <td>nan</td>\n",
       "      <td>got sent photo ruby alaska smoke wildfires pou...</td>\n",
       "      <td>1</td>\n",
       "    </tr>\n",
       "  </tbody>\n",
       "</table>\n",
       "</div>"
      ],
      "text/plain": [
       "   id keyword location                                               text  \\\n",
       "0   1     nan      nan          deeds reason earthquake may allah forgive   \n",
       "1   4     nan      nan                 forest fire near ronge sask canada   \n",
       "2   5     nan      nan  residents asked shelter place notified officer...   \n",
       "3   6     nan      nan  people receive wildfires evacuation orders cal...   \n",
       "4   7     nan      nan  got sent photo ruby alaska smoke wildfires pou...   \n",
       "\n",
       "   target  \n",
       "0       1  \n",
       "1       1  \n",
       "2       1  \n",
       "3       1  \n",
       "4       1  "
      ]
     },
     "execution_count": 11,
     "metadata": {},
     "output_type": "execute_result"
    }
   ],
   "source": [
    "lemmatizer = WordNetLemmatizer()\n",
    "stemmer = SnowballStemmer('english') \n",
    "\n",
    "def preprocess(sentence):\n",
    "  # dtype to string\n",
    "  sentence=str(sentence)\n",
    "  # lowercase\n",
    "  sentence = sentence.lower()\n",
    "  # remove html links\n",
    "  sentence = sentence.replace('{html}',\"\")\n",
    "  # remove emojies\n",
    "  sentence = remove_emoji(sentence)\n",
    "  # remove special characters\n",
    "  cleanr = re.compile('<.*?>')\n",
    "  cleantext = re.sub(cleanr, '', sentence)\n",
    "  # remove urls\n",
    "  rem_url=re.sub(r'http\\S+', '',cleantext)\n",
    "  # remove numbers\n",
    "  rem_num = re.sub('[0-9]+', '', rem_url)\n",
    "\n",
    "  # tokenize text\n",
    "  tokenizer = RegexpTokenizer(r'\\w+')\n",
    "  tokens = tokenizer.tokenize(rem_num)\n",
    "\n",
    "  # remove stopwords  \n",
    "  filtered_words = [w for w in tokens if len(w) > 2 if not w in stopwords.words('english')]\n",
    "  # stemming\n",
    "  stem_words=[stemmer.stem(w) for w in filtered_words]\n",
    "  lemma_words=[lemmatizer.lemmatize(w) for w in stem_words]\n",
    "  \n",
    "  return \" \".join(filtered_words)\n",
    "\n",
    "text_ls = ['keyword', 'location', 'text']\n",
    "\n",
    "\n",
    "# Clean train_df\n",
    "for col in text_ls:\n",
    "  for i in range(len(train_df[col])):\n",
    "    train_df[col][i] = preprocess(train_df[col][i])\n",
    "\n",
    "# Clean test_df\n",
    "for col in text_ls:\n",
    "  for i in range(len(test_df[col])):\n",
    "    test_df[col][i] = preprocess(test_df[col][i])\n",
    "\n",
    "print(\"\\nTrain Set:\")\n",
    "train_df.head()"
   ]
  },
  {
   "cell_type": "code",
   "execution_count": 12,
   "id": "04318998",
   "metadata": {},
   "outputs": [
    {
     "data": {
      "text/html": [
       "<div>\n",
       "<style scoped>\n",
       "    .dataframe tbody tr th:only-of-type {\n",
       "        vertical-align: middle;\n",
       "    }\n",
       "\n",
       "    .dataframe tbody tr th {\n",
       "        vertical-align: top;\n",
       "    }\n",
       "\n",
       "    .dataframe thead th {\n",
       "        text-align: right;\n",
       "    }\n",
       "</style>\n",
       "<table border=\"1\" class=\"dataframe\">\n",
       "  <thead>\n",
       "    <tr style=\"text-align: right;\">\n",
       "      <th></th>\n",
       "      <th>id</th>\n",
       "      <th>keyword</th>\n",
       "      <th>location</th>\n",
       "      <th>text</th>\n",
       "      <th>target</th>\n",
       "    </tr>\n",
       "  </thead>\n",
       "  <tbody>\n",
       "    <tr>\n",
       "      <th>3591</th>\n",
       "      <td>5130</td>\n",
       "      <td>fatal</td>\n",
       "      <td>thane</td>\n",
       "      <td>year old boy charged manslaughter toddler repo...</td>\n",
       "      <td>1</td>\n",
       "    </tr>\n",
       "    <tr>\n",
       "      <th>3236</th>\n",
       "      <td>4646</td>\n",
       "      <td>emergency services</td>\n",
       "      <td>los angeles</td>\n",
       "      <td>missionhills nursing registered nurse emergenc...</td>\n",
       "      <td>0</td>\n",
       "    </tr>\n",
       "    <tr>\n",
       "      <th>1657</th>\n",
       "      <td>2394</td>\n",
       "      <td>collapsed</td>\n",
       "      <td>foreverwithbap</td>\n",
       "      <td>almost collapsed said wish came true moderatel...</td>\n",
       "      <td>0</td>\n",
       "    </tr>\n",
       "    <tr>\n",
       "      <th>5517</th>\n",
       "      <td>7871</td>\n",
       "      <td>quarantined</td>\n",
       "      <td>nan</td>\n",
       "      <td>reddit new content policy goes effect many hor...</td>\n",
       "      <td>0</td>\n",
       "    </tr>\n",
       "    <tr>\n",
       "      <th>2033</th>\n",
       "      <td>2917</td>\n",
       "      <td>danger</td>\n",
       "      <td>lahar gwalior</td>\n",
       "      <td>indian govt amp media take serious concern saf...</td>\n",
       "      <td>1</td>\n",
       "    </tr>\n",
       "    <tr>\n",
       "      <th>3650</th>\n",
       "      <td>5199</td>\n",
       "      <td>fatalities</td>\n",
       "      <td>nan</td>\n",
       "      <td>liked youtube video kevinedwardsjr mortal komb...</td>\n",
       "      <td>0</td>\n",
       "    </tr>\n",
       "    <tr>\n",
       "      <th>2918</th>\n",
       "      <td>4197</td>\n",
       "      <td>drown</td>\n",
       "      <td>inside webcam stop</td>\n",
       "      <td>kessily mishacollins send drown like way think...</td>\n",
       "      <td>0</td>\n",
       "    </tr>\n",
       "    <tr>\n",
       "      <th>82</th>\n",
       "      <td>119</td>\n",
       "      <td>accident</td>\n",
       "      <td>nan</td>\n",
       "      <td>wait see pissed donnie tell another accident</td>\n",
       "      <td>0</td>\n",
       "    </tr>\n",
       "    <tr>\n",
       "      <th>608</th>\n",
       "      <td>877</td>\n",
       "      <td>bioterror</td>\n",
       "      <td>nan</td>\n",
       "      <td>fedex longer transport bioterror germs wake an...</td>\n",
       "      <td>1</td>\n",
       "    </tr>\n",
       "    <tr>\n",
       "      <th>6967</th>\n",
       "      <td>9992</td>\n",
       "      <td>tsunami</td>\n",
       "      <td>nan</td>\n",
       "      <td>dont get waves missing anymore theyre like tsu...</td>\n",
       "      <td>1</td>\n",
       "    </tr>\n",
       "  </tbody>\n",
       "</table>\n",
       "</div>"
      ],
      "text/plain": [
       "        id             keyword            location  \\\n",
       "3591  5130               fatal               thane   \n",
       "3236  4646  emergency services         los angeles   \n",
       "1657  2394           collapsed      foreverwithbap   \n",
       "5517  7871         quarantined                 nan   \n",
       "2033  2917              danger       lahar gwalior   \n",
       "3650  5199          fatalities                 nan   \n",
       "2918  4197               drown  inside webcam stop   \n",
       "82     119            accident                 nan   \n",
       "608    877           bioterror                 nan   \n",
       "6967  9992             tsunami                 nan   \n",
       "\n",
       "                                                   text  target  \n",
       "3591  year old boy charged manslaughter toddler repo...       1  \n",
       "3236  missionhills nursing registered nurse emergenc...       0  \n",
       "1657  almost collapsed said wish came true moderatel...       0  \n",
       "5517  reddit new content policy goes effect many hor...       0  \n",
       "2033  indian govt amp media take serious concern saf...       1  \n",
       "3650  liked youtube video kevinedwardsjr mortal komb...       0  \n",
       "2918  kessily mishacollins send drown like way think...       0  \n",
       "82         wait see pissed donnie tell another accident       0  \n",
       "608   fedex longer transport bioterror germs wake an...       1  \n",
       "6967  dont get waves missing anymore theyre like tsu...       1  "
      ]
     },
     "execution_count": 12,
     "metadata": {},
     "output_type": "execute_result"
    }
   ],
   "source": [
    "train_df.sample(10)"
   ]
  },
  {
   "cell_type": "code",
   "execution_count": 13,
   "id": "38e5b11c",
   "metadata": {},
   "outputs": [],
   "source": [
    "def define_tokenizer(train_sentences, val_sentences, test_sentences):\n",
    "  '''\n",
    "  Takes the train, val, and test data sets and assigning an index number to every word present in the sentences.\n",
    "  '''\n",
    "  sentences = pd.concat([train_sentences, val_sentences, test_sentences])\n",
    "  \n",
    "  tokenizer = tf.keras.preprocessing.text.Tokenizer()\n",
    "  tokenizer.fit_on_texts(sentences)\n",
    "  \n",
    "  return tokenizer\n",
    "    \n",
    "def encode(sentences, tokenizer):\n",
    "  '''\n",
    "  Takes the tokenizer to encode all the sentences into an array of index numbers representing the sentence\n",
    "  '''\n",
    "  encoded_sentences = tokenizer.texts_to_sequences(sentences)\n",
    "  encoded_sentences = tf.keras.preprocessing.sequence.pad_sequences(encoded_sentences, padding='post')\n",
    "  \n",
    "  return encoded_sentences"
   ]
  },
  {
   "cell_type": "code",
   "execution_count": 14,
   "id": "df6a772c",
   "metadata": {},
   "outputs": [],
   "source": [
    "# Split out data into train, val, test set\n",
    "val_data = train_df.tail(1500)\n",
    "train_data = train_df.head(6113)\n",
    "test_data = test_df"
   ]
  },
  {
   "cell_type": "code",
   "execution_count": 15,
   "id": "24cefc25",
   "metadata": {},
   "outputs": [],
   "source": [
    "tokenizer = define_tokenizer(train_data['text'], val_data['text'], test_data['text'])\n",
    "\n",
    "encoded_sentences = encode(train_data['text'], tokenizer)\n",
    "val_encoded_sentences = encode(val_data['text'], tokenizer)\n",
    "encoded_test_sentences = encode(test_data['text'], tokenizer)"
   ]
  },
  {
   "cell_type": "code",
   "execution_count": 16,
   "id": "713bb5b3",
   "metadata": {},
   "outputs": [
    {
     "data": {
      "text/plain": [
       "12"
      ]
     },
     "execution_count": 16,
     "metadata": {},
     "output_type": "execute_result"
    }
   ],
   "source": [
    "tokenizer.word_index['disaster']"
   ]
  },
  {
   "cell_type": "code",
   "execution_count": 17,
   "id": "3b6300d6",
   "metadata": {},
   "outputs": [
    {
     "data": {
      "text/plain": [
       "19999"
      ]
     },
     "execution_count": 17,
     "metadata": {},
     "output_type": "execute_result"
    }
   ],
   "source": [
    "len(tokenizer.word_index)"
   ]
  },
  {
   "cell_type": "code",
   "execution_count": 18,
   "id": "9ff6b8a0",
   "metadata": {},
   "outputs": [
    {
     "name": "stdout",
     "output_type": "stream",
     "text": [
      "Lower: True\n",
      "Split:  \n",
      "Filters: !\"#$%&()*+,-./:;<=>?@[\\]^_`{|}~\t\n",
      "\n"
     ]
    }
   ],
   "source": [
    "# Check if sentences  are lowercase\n",
    "print(f\"Lower: {tokenizer.get_config()['lower']}\")\n",
    "\n",
    "# Check the split to get the words from the sentences\n",
    "print(f\"Split: {tokenizer.get_config()['split']}\")\n",
    "\n",
    "# what characters are filters out\n",
    "print(f\"Filters: {tokenizer.get_config()['filters']}\")"
   ]
  },
  {
   "cell_type": "markdown",
   "id": "f102f0fb",
   "metadata": {},
   "source": [
    "# Embedding"
   ]
  },
  {
   "cell_type": "code",
   "execution_count": 20,
   "id": "6aa58a53",
   "metadata": {},
   "outputs": [],
   "source": [
    "embedding_dict = {}\n",
    "\n",
    "with open('./glove.6B.100d.txt','r',encoding='utf-8') as f:\n",
    "    for line in f:\n",
    "        values = line.split()\n",
    "        word = values[0]\n",
    "        vectors = np.asarray(values[1:],'float32')\n",
    "        embedding_dict[word] = vectors\n",
    "        \n",
    "f.close()"
   ]
  },
  {
   "cell_type": "code",
   "execution_count": 21,
   "id": "a37626f0",
   "metadata": {},
   "outputs": [],
   "source": [
    "num_words = len(tokenizer.word_index) + 1\n",
    "embedding_matrix = np.zeros((num_words, 100))\n",
    "\n",
    "for word, i in tokenizer.word_index.items():\n",
    "    if i > num_words:\n",
    "        continue\n",
    "    \n",
    "    emb_vec = embedding_dict.get(word)\n",
    "    \n",
    "    if emb_vec is not None:\n",
    "        embedding_matrix[i] = emb_vec"
   ]
  },
  {
   "cell_type": "markdown",
   "id": "a951774c",
   "metadata": {},
   "source": [
    "# Modeling"
   ]
  },
  {
   "cell_type": "markdown",
   "id": "bd7d291a",
   "metadata": {},
   "source": [
    "## Model 1"
   ]
  },
  {
   "cell_type": "code",
   "execution_count": 22,
   "id": "570bdeca",
   "metadata": {},
   "outputs": [],
   "source": [
    "tf_data = tf.data.Dataset.from_tensor_slices((encoded_sentences, train_data['target'].values))\n",
    "\n",
    "def pipeline(tf_data, buffer_size=100, batch_size=32):\n",
    "    tf_data = tf_data.shuffle(buffer_size)    \n",
    "    tf_data = tf_data.prefetch(tf.data.experimental.AUTOTUNE)\n",
    "    tf_data = tf_data.padded_batch(batch_size, padded_shapes=([None],[]))\n",
    "    \n",
    "    return tf_data\n",
    "\n",
    "tf_data = pipeline(tf_data, buffer_size=1000, batch_size=32)"
   ]
  },
  {
   "cell_type": "code",
   "execution_count": 23,
   "id": "f188cb50",
   "metadata": {},
   "outputs": [
    {
     "name": "stdout",
     "output_type": "stream",
     "text": [
      "<PaddedBatchDataset shapes: ((None, None), (None,)), types: (tf.int32, tf.int64)>\n"
     ]
    }
   ],
   "source": [
    "print(tf_data)"
   ]
  },
  {
   "cell_type": "code",
   "execution_count": 24,
   "id": "8e7c926b",
   "metadata": {},
   "outputs": [],
   "source": [
    "# create pipeline for validation set\n",
    "tf_val_data = tf.data.Dataset.from_tensor_slices((val_encoded_sentences, val_data['target'].values))\n",
    "\n",
    "def val_pipeline(tf_data, batch_size=1):        \n",
    "    tf_data = tf_data.prefetch(tf.data.experimental.AUTOTUNE)\n",
    "    tf_data = tf_data.padded_batch(batch_size, padded_shapes=([None],[]))\n",
    "    \n",
    "    return tf_data\n",
    "\n",
    "tf_val_data = val_pipeline(tf_val_data, batch_size=len(val_data))"
   ]
  },
  {
   "cell_type": "code",
   "execution_count": 25,
   "id": "eb917e1c",
   "metadata": {},
   "outputs": [
    {
     "name": "stdout",
     "output_type": "stream",
     "text": [
      "<PaddedBatchDataset shapes: ((None, None), (None,)), types: (tf.int32, tf.int64)>\n"
     ]
    }
   ],
   "source": [
    "print(tf_val_data)"
   ]
  },
  {
   "cell_type": "code",
   "execution_count": 26,
   "id": "bcefa51b",
   "metadata": {},
   "outputs": [],
   "source": [
    "embedding = tf.keras.layers.Embedding(\n",
    "    len(tokenizer.word_index) + 1,\n",
    "    100,\n",
    "    embeddings_initializer = tf.keras.initializers.Constant(embedding_matrix),\n",
    "    trainable = True\n",
    ")"
   ]
  },
  {
   "cell_type": "code",
   "execution_count": 27,
   "id": "69fa1016",
   "metadata": {},
   "outputs": [],
   "source": [
    "model = tf.keras.Sequential([\n",
    "    embedding,\n",
    "    tf.keras.layers.SpatialDropout1D(0.2),\n",
    "    tf.keras.layers.Bidirectional(tf.keras.layers.LSTM(128, dropout=0.2, recurrent_dropout=0.2)),\n",
    "    tf.keras.layers.Dense(1, activation='sigmoid')\n",
    "])"
   ]
  },
  {
   "cell_type": "code",
   "execution_count": 28,
   "id": "e298cfa8",
   "metadata": {},
   "outputs": [],
   "source": [
    "model.compile(\n",
    "    loss=tf.keras.losses.BinaryCrossentropy(from_logits=True),\n",
    "    optimizer=tf.keras.optimizers.Adam(0.0001),\n",
    "    metrics=['accuracy', 'Precision', 'Recall']\n",
    ")"
   ]
  },
  {
   "cell_type": "code",
   "execution_count": 29,
   "id": "5038fa86",
   "metadata": {},
   "outputs": [],
   "source": [
    "callbacks = [\n",
    "    tf.keras.callbacks.ReduceLROnPlateau(monitor='loss', patience=2, verbose=1),\n",
    "    tf.keras.callbacks.EarlyStopping(monitor='loss', patience=5, verbose=1),\n",
    "]"
   ]
  },
  {
   "cell_type": "code",
   "execution_count": 30,
   "id": "7764070b",
   "metadata": {},
   "outputs": [],
   "source": [
    "history = model.fit(\n",
    "    tf_data, \n",
    "    validation_data = tf_val_data,\n",
    "    epochs = 50,\n",
    "    callbacks = callbacks\n",
    ")\n",
    "\n",
    "clear_output()"
   ]
  },
  {
   "cell_type": "code",
   "execution_count": 32,
   "id": "7915cd08",
   "metadata": {},
   "outputs": [
    {
     "name": "stdout",
     "output_type": "stream",
     "text": [
      "1/1 [==============================] - 0s 0s/step - loss: 0.5954 - accuracy: 0.8160 - precision: 0.8824 - recall: 0.7021\n",
      "Accuracy score: 0.8159999847412109\n",
      "F1 score: 0.7819905091365847\n"
     ]
    }
   ],
   "source": [
    "metrics = model.evaluate(tf_val_data)\n",
    "# print(model.metrics_names)\n",
    "\n",
    "\n",
    "precision = metrics[2]\n",
    "recall = metrics[3]\n",
    "f1 = 2 * (precision * recall) / (precision + recall)\n",
    "\n",
    "print(f'Accuracy score: {metrics[1]}')\n",
    "print(f'F1 score: {str(f1)}')"
   ]
  },
  {
   "cell_type": "code",
   "execution_count": 33,
   "id": "1a8eb1a1",
   "metadata": {},
   "outputs": [
    {
     "data": {
      "text/html": [
       "<div>\n",
       "<style scoped>\n",
       "    .dataframe tbody tr th:only-of-type {\n",
       "        vertical-align: middle;\n",
       "    }\n",
       "\n",
       "    .dataframe tbody tr th {\n",
       "        vertical-align: top;\n",
       "    }\n",
       "\n",
       "    .dataframe thead th {\n",
       "        text-align: right;\n",
       "    }\n",
       "</style>\n",
       "<table border=\"1\" class=\"dataframe\">\n",
       "  <thead>\n",
       "    <tr style=\"text-align: right;\">\n",
       "      <th></th>\n",
       "      <th>loss</th>\n",
       "      <th>accuracy</th>\n",
       "      <th>precision</th>\n",
       "      <th>recall</th>\n",
       "      <th>val_loss</th>\n",
       "      <th>val_accuracy</th>\n",
       "    </tr>\n",
       "  </thead>\n",
       "  <tbody>\n",
       "    <tr>\n",
       "      <th>0</th>\n",
       "      <td>0.702646</td>\n",
       "      <td>0.610502</td>\n",
       "      <td>0.645669</td>\n",
       "      <td>0.159782</td>\n",
       "      <td>0.620457</td>\n",
       "      <td>0.771333</td>\n",
       "    </tr>\n",
       "    <tr>\n",
       "      <th>1</th>\n",
       "      <td>0.638512</td>\n",
       "      <td>0.760183</td>\n",
       "      <td>0.832930</td>\n",
       "      <td>0.536243</td>\n",
       "      <td>0.604167</td>\n",
       "      <td>0.802667</td>\n",
       "    </tr>\n",
       "    <tr>\n",
       "      <th>2</th>\n",
       "      <td>0.631287</td>\n",
       "      <td>0.771143</td>\n",
       "      <td>0.851294</td>\n",
       "      <td>0.551052</td>\n",
       "      <td>0.597738</td>\n",
       "      <td>0.799333</td>\n",
       "    </tr>\n",
       "    <tr>\n",
       "      <th>3</th>\n",
       "      <td>0.626238</td>\n",
       "      <td>0.788156</td>\n",
       "      <td>0.839658</td>\n",
       "      <td>0.612237</td>\n",
       "      <td>0.596364</td>\n",
       "      <td>0.801333</td>\n",
       "    </tr>\n",
       "    <tr>\n",
       "      <th>4</th>\n",
       "      <td>0.620521</td>\n",
       "      <td>0.796499</td>\n",
       "      <td>0.871348</td>\n",
       "      <td>0.604443</td>\n",
       "      <td>0.596818</td>\n",
       "      <td>0.803333</td>\n",
       "    </tr>\n",
       "  </tbody>\n",
       "</table>\n",
       "</div>"
      ],
      "text/plain": [
       "       loss  accuracy  precision    recall  val_loss  val_accuracy\n",
       "0  0.702646  0.610502   0.645669  0.159782  0.620457      0.771333\n",
       "1  0.638512  0.760183   0.832930  0.536243  0.604167      0.802667\n",
       "2  0.631287  0.771143   0.851294  0.551052  0.597738      0.799333\n",
       "3  0.626238  0.788156   0.839658  0.612237  0.596364      0.801333\n",
       "4  0.620521  0.796499   0.871348  0.604443  0.596818      0.803333"
      ]
     },
     "execution_count": 33,
     "metadata": {},
     "output_type": "execute_result"
    }
   ],
   "source": [
    "data = {'loss': history.history['loss'],\n",
    "        'accuracy':  history.history['accuracy'],\n",
    "        'precision': history.history['precision'],\n",
    "        'recall': history.history['recall'],\n",
    "        'val_loss': history.history['val_loss'],\n",
    "        'val_accuracy': history.history['val_accuracy']\n",
    "        }\n",
    "\n",
    "hist_df = pd.DataFrame(data)\n",
    "\n",
    "hist_df.head()"
   ]
  },
  {
   "cell_type": "code",
   "execution_count": 34,
   "id": "679658d2",
   "metadata": {},
   "outputs": [
    {
     "data": {
      "text/plain": [
       "<matplotlib.legend.Legend at 0x26306f46760>"
      ]
     },
     "execution_count": 34,
     "metadata": {},
     "output_type": "execute_result"
    },
    {
     "data": {
      "image/png": "[encoded data removed]",
      "text/plain": [
       "<Figure size 1440x360 with 4 Axes>"
      ]
     },
     "metadata": {
      "needs_background": "light"
     },
     "output_type": "display_data"
    }
   ],
   "source": [
    "fig, axs = plt.subplots(1, 4, figsize=(20, 5))\n",
    "\n",
    "axs[0].set_title('Loss')\n",
    "axs[0].plot(hist_df['loss'], label='train')\n",
    "axs[0].plot(hist_df['val_loss'], label='val')\n",
    "axs[0].legend()\n",
    "\n",
    "axs[1].set_title('Accuracy')\n",
    "axs[1].plot(hist_df['accuracy'], label='train')\n",
    "axs[1].plot(hist_df['val_accuracy'], label='val')\n",
    "axs[1].legend()\n",
    "\n",
    "axs[2].set_title('Precision')\n",
    "axs[2].plot(hist_df['precision'], label='train')\n",
    "axs[2].plot(hist_df['val_accuracy'], label='val')\n",
    "axs[2].legend()\n",
    "\n",
    "axs[3].set_title('Recall')\n",
    "axs[3].plot(hist_df['recall'], label='train')\n",
    "axs[3].plot(hist_df['val_loss'], label='val')\n",
    "axs[3].legend()"
   ]
  },
  {
   "cell_type": "code",
   "execution_count": 35,
   "id": "ca1345d9",
   "metadata": {},
   "outputs": [
    {
     "name": "stdout",
     "output_type": "stream",
     "text": [
      "Count of false positives: 66\n",
      "\n",
      "\n"
     ]
    },
    {
     "name": "stderr",
     "output_type": "stream",
     "text": [
      "<ipython-input-35-85f783c09aef>:4: SettingWithCopyWarning: \n",
      "A value is trying to be set on a copy of a slice from a DataFrame.\n",
      "Try using .loc[row_indexer,col_indexer] = value instead\n",
      "\n",
      "See the caveats in the documentation: https://pandas.pydata.org/pandas-docs/stable/user_guide/indexing.html#returning-a-view-versus-a-copy\n",
      "  val_data['predictions'] = predictions\n"
     ]
    }
   ],
   "source": [
    "# Check for number of false positives\n",
    "predictions = model.predict(tf_val_data)\n",
    "predictions = np.concatenate(predictions).round().astype(int)\n",
    "val_data['predictions'] = predictions\n",
    "\n",
    "false_positives = val_data[(val_data['predictions'] == 1) & (val_data['target'] == 0)]\n",
    "\n",
    "print(f'Count of false positives: {str(len(false_positives))}\\n\\n')"
   ]
  },
  {
   "cell_type": "code",
   "execution_count": 36,
   "id": "c12e473f",
   "metadata": {},
   "outputs": [
    {
     "data": {
      "text/html": [
       "<div>\n",
       "<style scoped>\n",
       "    .dataframe tbody tr th:only-of-type {\n",
       "        vertical-align: middle;\n",
       "    }\n",
       "\n",
       "    .dataframe tbody tr th {\n",
       "        vertical-align: top;\n",
       "    }\n",
       "\n",
       "    .dataframe thead th {\n",
       "        text-align: right;\n",
       "    }\n",
       "</style>\n",
       "<table border=\"1\" class=\"dataframe\">\n",
       "  <thead>\n",
       "    <tr style=\"text-align: right;\">\n",
       "      <th></th>\n",
       "      <th>id</th>\n",
       "      <th>keyword</th>\n",
       "      <th>location</th>\n",
       "      <th>text</th>\n",
       "      <th>target</th>\n",
       "      <th>predictions</th>\n",
       "    </tr>\n",
       "  </thead>\n",
       "  <tbody>\n",
       "    <tr>\n",
       "      <th>6240</th>\n",
       "      <td>8912</td>\n",
       "      <td>snowstorm</td>\n",
       "      <td>south usa</td>\n",
       "      <td>sassy city girl country hunk stranded smoky mo...</td>\n",
       "      <td>0</td>\n",
       "      <td>1</td>\n",
       "    </tr>\n",
       "    <tr>\n",
       "      <th>6257</th>\n",
       "      <td>8941</td>\n",
       "      <td>snowstorm</td>\n",
       "      <td>italy</td>\n",
       "      <td>snowstorm planned outside rome mary major toni...</td>\n",
       "      <td>0</td>\n",
       "      <td>1</td>\n",
       "    </tr>\n",
       "    <tr>\n",
       "      <th>6272</th>\n",
       "      <td>8962</td>\n",
       "      <td>storm</td>\n",
       "      <td>philly</td>\n",
       "      <td>okay welcome rain gave storm could weather</td>\n",
       "      <td>0</td>\n",
       "      <td>1</td>\n",
       "    </tr>\n",
       "    <tr>\n",
       "      <th>6277</th>\n",
       "      <td>8968</td>\n",
       "      <td>storm</td>\n",
       "      <td>johns creek</td>\n",
       "      <td>storm</td>\n",
       "      <td>0</td>\n",
       "      <td>1</td>\n",
       "    </tr>\n",
       "    <tr>\n",
       "      <th>6278</th>\n",
       "      <td>8969</td>\n",
       "      <td>storm</td>\n",
       "      <td>new delhi</td>\n",
       "      <td>johngreen storm silence robthier_en</td>\n",
       "      <td>0</td>\n",
       "      <td>1</td>\n",
       "    </tr>\n",
       "    <tr>\n",
       "      <th>6287</th>\n",
       "      <td>8980</td>\n",
       "      <td>storm</td>\n",
       "      <td>phantrash</td>\n",
       "      <td>sky clear storm passed still raining head</td>\n",
       "      <td>0</td>\n",
       "      <td>1</td>\n",
       "    </tr>\n",
       "    <tr>\n",
       "      <th>6336</th>\n",
       "      <td>9058</td>\n",
       "      <td>structural failure</td>\n",
       "      <td>india</td>\n",
       "      <td>excessive engine failure rate significant main...</td>\n",
       "      <td>0</td>\n",
       "      <td>1</td>\n",
       "    </tr>\n",
       "    <tr>\n",
       "      <th>6350</th>\n",
       "      <td>9080</td>\n",
       "      <td>structural failure</td>\n",
       "      <td>warm heart africa</td>\n",
       "      <td>sabcnewsroom sabotage rule structural failure</td>\n",
       "      <td>0</td>\n",
       "      <td>1</td>\n",
       "    </tr>\n",
       "    <tr>\n",
       "      <th>6351</th>\n",
       "      <td>9081</td>\n",
       "      <td>structural failure</td>\n",
       "      <td>ìït</td>\n",
       "      <td>catoinstitute causes federal failure deeply st...</td>\n",
       "      <td>0</td>\n",
       "      <td>1</td>\n",
       "    </tr>\n",
       "    <tr>\n",
       "      <th>6361</th>\n",
       "      <td>9093</td>\n",
       "      <td>suicide bomb</td>\n",
       "      <td>nan</td>\n",
       "      <td>foxnewsinsider obama giving false time schedul...</td>\n",
       "      <td>0</td>\n",
       "      <td>1</td>\n",
       "    </tr>\n",
       "  </tbody>\n",
       "</table>\n",
       "</div>"
      ],
      "text/plain": [
       "        id             keyword           location  \\\n",
       "6240  8912           snowstorm          south usa   \n",
       "6257  8941           snowstorm              italy   \n",
       "6272  8962               storm             philly   \n",
       "6277  8968               storm        johns creek   \n",
       "6278  8969               storm          new delhi   \n",
       "6287  8980               storm          phantrash   \n",
       "6336  9058  structural failure              india   \n",
       "6350  9080  structural failure  warm heart africa   \n",
       "6351  9081  structural failure                ìït   \n",
       "6361  9093        suicide bomb                nan   \n",
       "\n",
       "                                                   text  target  predictions  \n",
       "6240  sassy city girl country hunk stranded smoky mo...       0            1  \n",
       "6257  snowstorm planned outside rome mary major toni...       0            1  \n",
       "6272         okay welcome rain gave storm could weather       0            1  \n",
       "6277                                              storm       0            1  \n",
       "6278                johngreen storm silence robthier_en       0            1  \n",
       "6287          sky clear storm passed still raining head       0            1  \n",
       "6336  excessive engine failure rate significant main...       0            1  \n",
       "6350      sabcnewsroom sabotage rule structural failure       0            1  \n",
       "6351  catoinstitute causes federal failure deeply st...       0            1  \n",
       "6361  foxnewsinsider obama giving false time schedul...       0            1  "
      ]
     },
     "execution_count": 36,
     "metadata": {},
     "output_type": "execute_result"
    }
   ],
   "source": [
    "# Look at false positives\n",
    "false_positives.head(10)"
   ]
  },
  {
   "cell_type": "code",
   "execution_count": 37,
   "id": "a440926b",
   "metadata": {},
   "outputs": [
    {
     "name": "stdout",
     "output_type": "stream",
     "text": [
      "Count of false negatives: 210\n"
     ]
    }
   ],
   "source": [
    "# Check for number of false negatives\n",
    "false_negatives = val_data[(val_data['predictions'] == 0) & (val_data['target'] == 1)]\n",
    "\n",
    "print(f'Count of false negatives: {str(len(false_negatives))}')"
   ]
  },
  {
   "cell_type": "code",
   "execution_count": 38,
   "id": "eb8c09a3",
   "metadata": {},
   "outputs": [
    {
     "data": {
      "text/html": [
       "<div>\n",
       "<style scoped>\n",
       "    .dataframe tbody tr th:only-of-type {\n",
       "        vertical-align: middle;\n",
       "    }\n",
       "\n",
       "    .dataframe tbody tr th {\n",
       "        vertical-align: top;\n",
       "    }\n",
       "\n",
       "    .dataframe thead th {\n",
       "        text-align: right;\n",
       "    }\n",
       "</style>\n",
       "<table border=\"1\" class=\"dataframe\">\n",
       "  <thead>\n",
       "    <tr style=\"text-align: right;\">\n",
       "      <th></th>\n",
       "      <th>id</th>\n",
       "      <th>keyword</th>\n",
       "      <th>location</th>\n",
       "      <th>text</th>\n",
       "      <th>target</th>\n",
       "      <th>predictions</th>\n",
       "    </tr>\n",
       "  </thead>\n",
       "  <tbody>\n",
       "    <tr>\n",
       "      <th>7311</th>\n",
       "      <td>10464</td>\n",
       "      <td>wild fires</td>\n",
       "      <td>johannesburg south africa</td>\n",
       "      <td>load shedding permanently live like wild camp ...</td>\n",
       "      <td>0</td>\n",
       "      <td>1</td>\n",
       "    </tr>\n",
       "    <tr>\n",
       "      <th>7330</th>\n",
       "      <td>10490</td>\n",
       "      <td>wildfire</td>\n",
       "      <td>vail valley</td>\n",
       "      <td>fire safety plan matt_kroschel mock wildfire n...</td>\n",
       "      <td>0</td>\n",
       "      <td>1</td>\n",
       "    </tr>\n",
       "    <tr>\n",
       "      <th>7412</th>\n",
       "      <td>10605</td>\n",
       "      <td>wounded</td>\n",
       "      <td>nan</td>\n",
       "      <td>ever seen president killed wounded child man c...</td>\n",
       "      <td>0</td>\n",
       "      <td>1</td>\n",
       "    </tr>\n",
       "    <tr>\n",
       "      <th>7442</th>\n",
       "      <td>10650</td>\n",
       "      <td>wounds</td>\n",
       "      <td>earth</td>\n",
       "      <td>dianneg gunshot wound bicep wounds chest torso...</td>\n",
       "      <td>0</td>\n",
       "      <td>1</td>\n",
       "    </tr>\n",
       "    <tr>\n",
       "      <th>7445</th>\n",
       "      <td>10656</td>\n",
       "      <td>wounds</td>\n",
       "      <td>lake highlands</td>\n",
       "      <td>crack path wiped morning beach run surface wou...</td>\n",
       "      <td>0</td>\n",
       "      <td>1</td>\n",
       "    </tr>\n",
       "    <tr>\n",
       "      <th>7453</th>\n",
       "      <td>10666</td>\n",
       "      <td>wounds</td>\n",
       "      <td>cape town</td>\n",
       "      <td>thought surgical wounds healed weather helping...</td>\n",
       "      <td>0</td>\n",
       "      <td>1</td>\n",
       "    </tr>\n",
       "    <tr>\n",
       "      <th>7467</th>\n",
       "      <td>10684</td>\n",
       "      <td>wounds</td>\n",
       "      <td>charlotte</td>\n",
       "      <td>says many wounds could fatal rather quickly ot...</td>\n",
       "      <td>0</td>\n",
       "      <td>1</td>\n",
       "    </tr>\n",
       "    <tr>\n",
       "      <th>7472</th>\n",
       "      <td>10689</td>\n",
       "      <td>wreck</td>\n",
       "      <td>nan</td>\n",
       "      <td>wreck wreck wreck wreck wreck wreck wreck wrec...</td>\n",
       "      <td>0</td>\n",
       "      <td>1</td>\n",
       "    </tr>\n",
       "    <tr>\n",
       "      <th>7487</th>\n",
       "      <td>10709</td>\n",
       "      <td>wreck</td>\n",
       "      <td>nan</td>\n",
       "      <td>emotions train wreck body train wreck wreck</td>\n",
       "      <td>0</td>\n",
       "      <td>1</td>\n",
       "    </tr>\n",
       "    <tr>\n",
       "      <th>7551</th>\n",
       "      <td>10794</td>\n",
       "      <td>wrecked</td>\n",
       "      <td>nan</td>\n",
       "      <td>freeway africa til wrecked audi</td>\n",
       "      <td>0</td>\n",
       "      <td>1</td>\n",
       "    </tr>\n",
       "  </tbody>\n",
       "</table>\n",
       "</div>"
      ],
      "text/plain": [
       "         id     keyword                   location  \\\n",
       "7311  10464  wild fires  johannesburg south africa   \n",
       "7330  10490    wildfire                vail valley   \n",
       "7412  10605     wounded                        nan   \n",
       "7442  10650      wounds                      earth   \n",
       "7445  10656      wounds             lake highlands   \n",
       "7453  10666      wounds                  cape town   \n",
       "7467  10684      wounds                  charlotte   \n",
       "7472  10689       wreck                        nan   \n",
       "7487  10709       wreck                        nan   \n",
       "7551  10794     wrecked                        nan   \n",
       "\n",
       "                                                   text  target  predictions  \n",
       "7311  load shedding permanently live like wild camp ...       0            1  \n",
       "7330  fire safety plan matt_kroschel mock wildfire n...       0            1  \n",
       "7412  ever seen president killed wounded child man c...       0            1  \n",
       "7442  dianneg gunshot wound bicep wounds chest torso...       0            1  \n",
       "7445  crack path wiped morning beach run surface wou...       0            1  \n",
       "7453  thought surgical wounds healed weather helping...       0            1  \n",
       "7467  says many wounds could fatal rather quickly ot...       0            1  \n",
       "7472  wreck wreck wreck wreck wreck wreck wreck wrec...       0            1  \n",
       "7487        emotions train wreck body train wreck wreck       0            1  \n",
       "7551                    freeway africa til wrecked audi       0            1  "
      ]
     },
     "execution_count": 38,
     "metadata": {},
     "output_type": "execute_result"
    }
   ],
   "source": [
    "# Look at false negatives\n",
    "false_positives.tail(10)"
   ]
  },
  {
   "cell_type": "code",
   "execution_count": 39,
   "id": "5f0ce3d5",
   "metadata": {},
   "outputs": [],
   "source": [
    "tf_test_data = tf.data.Dataset.from_tensor_slices((encoded_test_sentences))\n",
    "\n",
    "def test_pipeline(tf_data, batch_size=1):        \n",
    "    tf_data = tf_data.prefetch(tf.data.experimental.AUTOTUNE)\n",
    "    tf_data = tf_data.padded_batch(batch_size, padded_shapes=([None]))\n",
    "    \n",
    "    return tf_data\n",
    "\n",
    "tf_test_data = test_pipeline(tf_test_data)"
   ]
  },
  {
   "cell_type": "code",
   "execution_count": 40,
   "id": "3d2618bd",
   "metadata": {},
   "outputs": [],
   "source": [
    "pred = model.predict(tf_test_data)"
   ]
  },
  {
   "cell_type": "code",
   "execution_count": 41,
   "id": "ee378376",
   "metadata": {},
   "outputs": [],
   "source": [
    "pred = np.concatenate(pred).round().astype(int)"
   ]
  },
  {
   "cell_type": "code",
   "execution_count": 43,
   "id": "fadea622",
   "metadata": {},
   "outputs": [],
   "source": [
    "sub = pd.DataFrame(data={'target': pred}, index=test_data['id'])\n",
    "sub.index = sub.index.rename('id')\n",
    "sub.to_csv('submission1.csv')"
   ]
  },
  {
   "cell_type": "code",
   "execution_count": 74,
   "id": "d285db47",
   "metadata": {},
   "outputs": [
    {
     "data": {
      "image/png": "[encoded data removed]",
      "text/plain": [
       "<IPython.core.display.Image object>"
      ]
     },
     "execution_count": 74,
     "metadata": {},
     "output_type": "execute_result"
    }
   ],
   "source": [
    "from IPython import display\n",
    "display.Image(\"submisson1.png\")"
   ]
  },
  {
   "cell_type": "markdown",
   "id": "acda7d36",
   "metadata": {},
   "source": [
    "# Model 2"
   ]
  },
  {
   "cell_type": "code",
   "execution_count": 44,
   "id": "3cf0b212",
   "metadata": {},
   "outputs": [],
   "source": [
    "model2 = tf.keras.Sequential([\n",
    "    embedding,\n",
    "    tf.keras.layers.SpatialDropout1D(0.2),\n",
    "    tf.keras.layers.Dense(1, activation='relu'),\n",
    "    tf.keras.layers.Bidirectional(tf.keras.layers.LSTM(128, dropout=0.2, recurrent_dropout=0.2)),\n",
    "    tf.keras.layers.Dense(1, activation='sigmoid')\n",
    "])"
   ]
  },
  {
   "cell_type": "code",
   "execution_count": 45,
   "id": "2529fea8",
   "metadata": {},
   "outputs": [],
   "source": [
    "model2.compile(\n",
    "    loss=tf.keras.losses.BinaryCrossentropy(from_logits=True),\n",
    "    optimizer=tf.keras.optimizers.Adam(0.0001),\n",
    "    metrics=['accuracy', 'Precision', 'Recall']\n",
    ")"
   ]
  },
  {
   "cell_type": "code",
   "execution_count": 46,
   "id": "42ab49f8",
   "metadata": {},
   "outputs": [],
   "source": [
    "callbacks2 = [\n",
    "    tf.keras.callbacks.ReduceLROnPlateau(monitor='loss', patience=2, verbose=1),\n",
    "    tf.keras.callbacks.EarlyStopping(monitor='loss', patience=5, verbose=1),\n",
    "]"
   ]
  },
  {
   "cell_type": "code",
   "execution_count": 47,
   "id": "2c52df42",
   "metadata": {},
   "outputs": [],
   "source": [
    "history2 = model2.fit(\n",
    "    tf_data, \n",
    "    validation_data = tf_val_data,\n",
    "    epochs = 50,\n",
    "    callbacks = callbacks2\n",
    ")\n",
    "\n",
    "clear_output()"
   ]
  },
  {
   "cell_type": "code",
   "execution_count": 71,
   "id": "6c906f98",
   "metadata": {},
   "outputs": [
    {
     "name": "stdout",
     "output_type": "stream",
     "text": [
      "1/1 [==============================] - 0s 0s/step - loss: 0.6932 - accuracy: 0.5300 - precision: 0.0000e+00 - recall: 0.0000e+00\n",
      "Accuracy score: 0.5299999713897705\n",
      "F1 score: 0.7819905091365847\n"
     ]
    }
   ],
   "source": [
    "metrics2 = model2.evaluate(tf_val_data)\n",
    "# print(model.metrics_names)\n",
    "\n",
    "\n",
    "precision2 = metrics2[2]\n",
    "recall2 = metrics2[3]\n",
    "f1 = 2 * (precision * recall) / (precision + recall)\n",
    "\n",
    "print(f'Accuracy score: {metrics2[1]}')\n",
    "print(f'F1 score: {str(f1)}')"
   ]
  },
  {
   "cell_type": "code",
   "execution_count": 72,
   "id": "30232ed5",
   "metadata": {},
   "outputs": [
    {
     "data": {
      "text/html": [
       "<div>\n",
       "<style scoped>\n",
       "    .dataframe tbody tr th:only-of-type {\n",
       "        vertical-align: middle;\n",
       "    }\n",
       "\n",
       "    .dataframe tbody tr th {\n",
       "        vertical-align: top;\n",
       "    }\n",
       "\n",
       "    .dataframe thead th {\n",
       "        text-align: right;\n",
       "    }\n",
       "</style>\n",
       "<table border=\"1\" class=\"dataframe\">\n",
       "  <thead>\n",
       "    <tr style=\"text-align: right;\">\n",
       "      <th></th>\n",
       "      <th>loss</th>\n",
       "      <th>accuracy</th>\n",
       "      <th>precision</th>\n",
       "      <th>recall</th>\n",
       "      <th>val_loss</th>\n",
       "      <th>val_accuracy</th>\n",
       "    </tr>\n",
       "  </thead>\n",
       "  <tbody>\n",
       "    <tr>\n",
       "      <th>0</th>\n",
       "      <td>0.724483</td>\n",
       "      <td>0.571732</td>\n",
       "      <td>0.290323</td>\n",
       "      <td>0.01403</td>\n",
       "      <td>0.693388</td>\n",
       "      <td>0.53</td>\n",
       "    </tr>\n",
       "    <tr>\n",
       "      <th>1</th>\n",
       "      <td>0.693195</td>\n",
       "      <td>0.580239</td>\n",
       "      <td>0.000000</td>\n",
       "      <td>0.00000</td>\n",
       "      <td>0.693193</td>\n",
       "      <td>0.53</td>\n",
       "    </tr>\n",
       "    <tr>\n",
       "      <th>2</th>\n",
       "      <td>0.693157</td>\n",
       "      <td>0.580239</td>\n",
       "      <td>0.000000</td>\n",
       "      <td>0.00000</td>\n",
       "      <td>0.693167</td>\n",
       "      <td>0.53</td>\n",
       "    </tr>\n",
       "    <tr>\n",
       "      <th>3</th>\n",
       "      <td>0.693151</td>\n",
       "      <td>0.580239</td>\n",
       "      <td>0.000000</td>\n",
       "      <td>0.00000</td>\n",
       "      <td>0.693158</td>\n",
       "      <td>0.53</td>\n",
       "    </tr>\n",
       "    <tr>\n",
       "      <th>4</th>\n",
       "      <td>0.693150</td>\n",
       "      <td>0.580239</td>\n",
       "      <td>0.000000</td>\n",
       "      <td>0.00000</td>\n",
       "      <td>0.693157</td>\n",
       "      <td>0.53</td>\n",
       "    </tr>\n",
       "  </tbody>\n",
       "</table>\n",
       "</div>"
      ],
      "text/plain": [
       "       loss  accuracy  precision   recall  val_loss  val_accuracy\n",
       "0  0.724483  0.571732   0.290323  0.01403  0.693388          0.53\n",
       "1  0.693195  0.580239   0.000000  0.00000  0.693193          0.53\n",
       "2  0.693157  0.580239   0.000000  0.00000  0.693167          0.53\n",
       "3  0.693151  0.580239   0.000000  0.00000  0.693158          0.53\n",
       "4  0.693150  0.580239   0.000000  0.00000  0.693157          0.53"
      ]
     },
     "execution_count": 72,
     "metadata": {},
     "output_type": "execute_result"
    }
   ],
   "source": [
    "data2 = {'loss': history2.history['loss'],\n",
    "        'accuracy':  history2.history['accuracy'],\n",
    "        'precision': history2.history['precision'],\n",
    "        'recall': history2.history['recall'],\n",
    "        'val_loss': history2.history['val_loss'],\n",
    "        'val_accuracy': history2.history['val_accuracy']\n",
    "        }\n",
    "\n",
    "hist_df2 = pd.DataFrame(data2)\n",
    "\n",
    "hist_df2.head()"
   ]
  },
  {
   "cell_type": "code",
   "execution_count": 63,
   "id": "db82b0be",
   "metadata": {},
   "outputs": [
    {
     "data": {
      "text/plain": [
       "<matplotlib.legend.Legend at 0x26324a37430>"
      ]
     },
     "execution_count": 63,
     "metadata": {},
     "output_type": "execute_result"
    },
    {
     "data": {
      "image/png": "[encoded data removed]",
      "text/plain": [
       "<Figure size 1440x360 with 4 Axes>"
      ]
     },
     "metadata": {
      "needs_background": "light"
     },
     "output_type": "display_data"
    }
   ],
   "source": [
    "fig, axs = plt.subplots(1, 4, figsize=(20, 5))\n",
    "\n",
    "axs[0].set_title('Loss')\n",
    "axs[0].plot(hist_df2['loss'], label='train')\n",
    "axs[0].plot(hist_df2['val_loss'], label='val')\n",
    "axs[0].legend()\n",
    "\n",
    "axs[1].set_title('Accuracy')\n",
    "axs[1].plot(hist_df2['accuracy'], label='train')\n",
    "axs[1].plot(hist_df2['val_accuracy'], label='val')\n",
    "axs[1].legend()\n",
    "\n",
    "axs[2].set_title('Precision')\n",
    "axs[2].plot(hist_df2['precision'], label='train')\n",
    "axs[2].plot(hist_df2['val_accuracy'], label='val')\n",
    "axs[2].legend()\n",
    "\n",
    "axs[3].set_title('Recall')\n",
    "axs[3].plot(hist_df2['recall'], label='train')\n",
    "axs[3].plot(hist_df2['val_loss'], label='val')\n",
    "axs[3].legend()"
   ]
  },
  {
   "cell_type": "code",
   "execution_count": 51,
   "id": "ad17c128",
   "metadata": {},
   "outputs": [],
   "source": [
    "pred2 = model2.predict(tf_test_data)"
   ]
  },
  {
   "cell_type": "code",
   "execution_count": 52,
   "id": "2e3e16af",
   "metadata": {},
   "outputs": [],
   "source": [
    "pred2 = np.concatenate(pred2).round().astype(int)"
   ]
  },
  {
   "cell_type": "code",
   "execution_count": 53,
   "id": "fc231d8c",
   "metadata": {},
   "outputs": [],
   "source": [
    "sub2 = pd.DataFrame(data={'target': pred2}, index=test_data['id'])\n",
    "sub2.index = sub2.index.rename('id')\n",
    "sub2.to_csv('submission2.csv')"
   ]
  },
  {
   "cell_type": "code",
   "execution_count": 76,
   "id": "c38f8f1b",
   "metadata": {},
   "outputs": [
    {
     "data": {
      "image/png": "[encoded data removed]",
      "text/plain": [
       "<IPython.core.display.Image object>"
      ]
     },
     "execution_count": 76,
     "metadata": {},
     "output_type": "execute_result"
    }
   ],
   "source": [
    "display.Image(\"submission2.png\")"
   ]
  },
  {
   "cell_type": "markdown",
   "id": "115db8de",
   "metadata": {},
   "source": [
    "# Model 3"
   ]
  },
  {
   "cell_type": "code",
   "execution_count": 57,
   "id": "f8249491",
   "metadata": {},
   "outputs": [],
   "source": [
    "model3 = tf.keras.Sequential([\n",
    "    embedding,\n",
    "    tf.keras.layers.Dense(64, activation=\"relu\"),\n",
    "    tf.keras.layers.SpatialDropout1D(0.2),\n",
    "    tf.keras.layers.Dense(64, activation=\"relu\"),\n",
    "    tf.keras.layers.Bidirectional(tf.keras.layers.LSTM(128, dropout=0.2, recurrent_dropout=0.2)),\n",
    "    tf.keras.layers.Dense(1, activation='sigmoid')\n",
    "])"
   ]
  },
  {
   "cell_type": "code",
   "execution_count": 58,
   "id": "4380f2ba",
   "metadata": {},
   "outputs": [],
   "source": [
    "model3.compile(\n",
    "  loss=\"binary_crossentropy\",\n",
    "  optimizer=tf.keras.optimizers.Adam(),\n",
    "  metrics=['accuracy', 'Precision', 'Recall']\n",
    ")"
   ]
  },
  {
   "cell_type": "code",
   "execution_count": 59,
   "id": "e06f8a4c",
   "metadata": {},
   "outputs": [],
   "source": [
    "callbacks3 = [\n",
    "    tf.keras.callbacks.ReduceLROnPlateau(monitor='loss', patience=2, verbose=1),\n",
    "    tf.keras.callbacks.EarlyStopping(monitor='loss', patience=5, verbose=1),\n",
    "]"
   ]
  },
  {
   "cell_type": "code",
   "execution_count": 60,
   "id": "6221d8fd",
   "metadata": {},
   "outputs": [],
   "source": [
    "history3 = model3.fit(\n",
    "    tf_data, \n",
    "    validation_data = tf_val_data,\n",
    "    epochs=50,\n",
    "    callbacks = callbacks3\n",
    ")\n",
    "\n",
    "clear_output()"
   ]
  },
  {
   "cell_type": "code",
   "execution_count": 64,
   "id": "3131930c",
   "metadata": {},
   "outputs": [
    {
     "name": "stdout",
     "output_type": "stream",
     "text": [
      "1/1 [==============================] - 0s 0s/step - loss: 1.2890 - accuracy: 0.7320 - precision: 0.6945 - recall: 0.7674\n",
      "Accuracy score: 0.7319999933242798\n",
      "F1 score: 0.7291105222536299\n"
     ]
    }
   ],
   "source": [
    "metrics3 = model3.evaluate(tf_val_data)\n",
    "# print(model.metrics_names)\n",
    "\n",
    "\n",
    "precision3 = metrics3[2]\n",
    "recall3 = metrics3[3]\n",
    "f1 = 2 * (precision3 * recall3) / (precision3 + recall3)\n",
    "\n",
    "print(f'Accuracy score: {metrics3[1]}')\n",
    "print(f'F1 score: {str(f1)}')"
   ]
  },
  {
   "cell_type": "code",
   "execution_count": 65,
   "id": "30a16d05",
   "metadata": {},
   "outputs": [
    {
     "data": {
      "text/html": [
       "<div>\n",
       "<style scoped>\n",
       "    .dataframe tbody tr th:only-of-type {\n",
       "        vertical-align: middle;\n",
       "    }\n",
       "\n",
       "    .dataframe tbody tr th {\n",
       "        vertical-align: top;\n",
       "    }\n",
       "\n",
       "    .dataframe thead th {\n",
       "        text-align: right;\n",
       "    }\n",
       "</style>\n",
       "<table border=\"1\" class=\"dataframe\">\n",
       "  <thead>\n",
       "    <tr style=\"text-align: right;\">\n",
       "      <th></th>\n",
       "      <th>loss</th>\n",
       "      <th>accuracy</th>\n",
       "      <th>precision</th>\n",
       "      <th>recall</th>\n",
       "      <th>val_loss</th>\n",
       "      <th>val_accuracy</th>\n",
       "    </tr>\n",
       "  </thead>\n",
       "  <tbody>\n",
       "    <tr>\n",
       "      <th>0</th>\n",
       "      <td>0.505056</td>\n",
       "      <td>0.760347</td>\n",
       "      <td>0.792353</td>\n",
       "      <td>0.581450</td>\n",
       "      <td>0.403739</td>\n",
       "      <td>0.822000</td>\n",
       "    </tr>\n",
       "    <tr>\n",
       "      <th>1</th>\n",
       "      <td>0.370739</td>\n",
       "      <td>0.848192</td>\n",
       "      <td>0.864324</td>\n",
       "      <td>0.757210</td>\n",
       "      <td>0.404596</td>\n",
       "      <td>0.820667</td>\n",
       "    </tr>\n",
       "    <tr>\n",
       "      <th>2</th>\n",
       "      <td>0.294433</td>\n",
       "      <td>0.884508</td>\n",
       "      <td>0.895408</td>\n",
       "      <td>0.820733</td>\n",
       "      <td>0.425588</td>\n",
       "      <td>0.809333</td>\n",
       "    </tr>\n",
       "    <tr>\n",
       "      <th>3</th>\n",
       "      <td>0.205289</td>\n",
       "      <td>0.921970</td>\n",
       "      <td>0.924076</td>\n",
       "      <td>0.886984</td>\n",
       "      <td>0.486307</td>\n",
       "      <td>0.792667</td>\n",
       "    </tr>\n",
       "    <tr>\n",
       "      <th>4</th>\n",
       "      <td>0.150415</td>\n",
       "      <td>0.944872</td>\n",
       "      <td>0.944201</td>\n",
       "      <td>0.923227</td>\n",
       "      <td>0.548027</td>\n",
       "      <td>0.774667</td>\n",
       "    </tr>\n",
       "  </tbody>\n",
       "</table>\n",
       "</div>"
      ],
      "text/plain": [
       "       loss  accuracy  precision    recall  val_loss  val_accuracy\n",
       "0  0.505056  0.760347   0.792353  0.581450  0.403739      0.822000\n",
       "1  0.370739  0.848192   0.864324  0.757210  0.404596      0.820667\n",
       "2  0.294433  0.884508   0.895408  0.820733  0.425588      0.809333\n",
       "3  0.205289  0.921970   0.924076  0.886984  0.486307      0.792667\n",
       "4  0.150415  0.944872   0.944201  0.923227  0.548027      0.774667"
      ]
     },
     "execution_count": 65,
     "metadata": {},
     "output_type": "execute_result"
    }
   ],
   "source": [
    "data3 = {'loss': history3.history['loss'],\n",
    "        'accuracy':  history3.history['accuracy'],\n",
    "        'precision': history3.history['precision'],\n",
    "        'recall': history3.history['recall'],\n",
    "        'val_loss': history3.history['val_loss'],\n",
    "        'val_accuracy': history3.history['val_accuracy']\n",
    "        }\n",
    "\n",
    "hist_df3 = pd.DataFrame(data3)\n",
    "\n",
    "hist_df3.head()"
   ]
  },
  {
   "cell_type": "code",
   "execution_count": 66,
   "id": "b919224a",
   "metadata": {},
   "outputs": [
    {
     "data": {
      "text/plain": [
       "<matplotlib.legend.Legend at 0x26324ba7cd0>"
      ]
     },
     "execution_count": 66,
     "metadata": {},
     "output_type": "execute_result"
    },
    {
     "data": {
      "image/png": "[encoded data removed]",
      "text/plain": [
       "<Figure size 1440x360 with 4 Axes>"
      ]
     },
     "metadata": {
      "needs_background": "light"
     },
     "output_type": "display_data"
    }
   ],
   "source": [
    "fig, axs = plt.subplots(1, 4, figsize=(20, 5))\n",
    "\n",
    "axs[0].set_title('Loss')\n",
    "axs[0].plot(hist_df3['loss'], label='train')\n",
    "axs[0].plot(hist_df3['val_loss'], label='val')\n",
    "axs[0].legend()\n",
    "\n",
    "axs[1].set_title('Accuracy')\n",
    "axs[1].plot(hist_df3['accuracy'], label='train')\n",
    "axs[1].plot(hist_df3['val_accuracy'], label='val')\n",
    "axs[1].legend()\n",
    "\n",
    "axs[2].set_title('Precision')\n",
    "axs[2].plot(hist_df3['precision'], label='train')\n",
    "axs[2].plot(hist_df3['val_accuracy'], label='val')\n",
    "axs[2].legend()\n",
    "\n",
    "axs[3].set_title('Recall')\n",
    "axs[3].plot(hist_df3['recall'], label='train')\n",
    "axs[3].plot(hist_df3['val_loss'], label='val')\n",
    "axs[3].legend()"
   ]
  },
  {
   "cell_type": "code",
   "execution_count": 67,
   "id": "2c27a415",
   "metadata": {},
   "outputs": [],
   "source": [
    "pred3 = model3.predict(tf_test_data)"
   ]
  },
  {
   "cell_type": "code",
   "execution_count": 68,
   "id": "b06bada7",
   "metadata": {},
   "outputs": [],
   "source": [
    "pred3 = np.concatenate(pred3).round().astype(int)"
   ]
  },
  {
   "cell_type": "code",
   "execution_count": 69,
   "id": "94ab3acc",
   "metadata": {},
   "outputs": [],
   "source": [
    "sub3 = pd.DataFrame(data={'target': pred3}, index=test_data['id'])\n",
    "sub3.index = sub3.index.rename('id')\n",
    "sub3.to_csv('submission3.csv')"
   ]
  },
  {
   "cell_type": "code",
   "execution_count": 77,
   "id": "0f489a72",
   "metadata": {},
   "outputs": [
    {
     "data": {
      "image/png": "[encoded data removed]",
      "text/plain": [
       "<IPython.core.display.Image object>"
      ]
     },
     "execution_count": 77,
     "metadata": {},
     "output_type": "execute_result"
    }
   ],
   "source": [
    "display.Image(\"submission3.png\")"
   ]
  },
  {
   "cell_type": "markdown",
   "id": "652b0b44",
   "metadata": {},
   "source": [
    "# Conclusion"
   ]
  },
  {
   "cell_type": "markdown",
   "id": "818393e7",
   "metadata": {},
   "source": [
    "This was a difficult assignment with many roadblocks to getting my models to run properly. After several attempts and quite a few different approaches, I finally got my models to run properly--atleast most of them. Model 1 performed best overall and model 3 was not far behind. However, I had a hard time getting Model 2 to run properly and it shows in the performance. I assume its a simple mistake somewhere, but I could not seem to troubleshoot this issue. Nevertheless, I was able to get it to run. "
   ]
  }
 ],
 "metadata": {
  "kernelspec": {
   "display_name": "Python 3",
   "language": "python",
   "name": "python3"
  },
  "language_info": {
   "codemirror_mode": {
    "name": "ipython",
    "version": 3
   },
   "file_extension": ".py",
   "mimetype": "text/x-python",
   "name": "python",
   "nbconvert_exporter": "python",
   "pygments_lexer": "ipython3",
   "version": "3.8.8"
  }
 },
 "nbformat": 4,
 "nbformat_minor": 5
}
